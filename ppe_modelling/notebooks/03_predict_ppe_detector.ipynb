{
 "cells": [
  {
   "cell_type": "markdown",
   "metadata": {},
   "source": [
    "# Предсказания модели детекции нарушений СИЗ"
   ]
  },
  {
   "cell_type": "markdown",
   "metadata": {},
   "source": [
    "## Imports"
   ]
  },
  {
   "cell_type": "code",
   "execution_count": 2,
   "metadata": {},
   "outputs": [],
   "source": [
    "%load_ext autoreload\n",
    "%autoreload 2"
   ]
  },
  {
   "cell_type": "code",
   "execution_count": 6,
   "metadata": {},
   "outputs": [],
   "source": [
    "from pathlib import Path\n",
    "\n",
    "from ppe_modelling.utils import system_info_banner\n",
    "from ppe_modelling.logger import logger\n",
    "from ppe_modelling.detectron_cfg import get_infer_cfg\n",
    "\n",
    "from detectron2.utils.logger import setup_logger\n",
    "from detectron2.engine import DefaultPredictor\n",
    "\n",
    "detectron_logger = setup_logger()\n",
    "\n",
    "# TODO: run on video\n",
    "# TODO: make presentation"
   ]
  },
  {
   "cell_type": "markdown",
   "metadata": {},
   "source": [
    "## System Info"
   ]
  },
  {
   "cell_type": "code",
   "execution_count": 7,
   "metadata": {},
   "outputs": [
    {
     "name": "stderr",
     "output_type": "stream",
     "text": [
      "[ppe-modelling] 06.04.2025 19:10:17 === System Information ===\n",
      "System: Linux\n",
      "Machine: x86_64\n",
      "OS Version: #59~22.04.1-Ubuntu SMP PREEMPT_DYNAMIC Wed Mar 19 17:07:41 UTC 2\n",
      "OS Name: Linux-6.8.0-57-generic-x86_64-with-glibc2.35\n",
      "\n",
      "=== Hardware Information ===\n",
      "RAM: 62.64 GB\n",
      "CPU: x86_64 (20 cores)\n",
      "GPU: NVIDIA GeForce RTX 3090\n",
      "nvcc: nvcc: NVIDIA (R) Cuda compiler driver\n",
      "Copyright (c) 2005-2024 NVIDIA Corporation\n",
      "Built on Thu_Mar_28_02:18:24_PDT_2024\n",
      "Cuda compilation tools, release 12.4, V12.4.131\n",
      "Build cuda_12.4.r12.4/compiler.34097967_0\n",
      "\n",
      "=== Libraries Information ===\n",
      "torch: 2.6; cuda: cu124\n",
      "detectron2: 0.6\n"
     ]
    }
   ],
   "source": [
    "logger.info(system_info_banner())"
   ]
  },
  {
   "cell_type": "markdown",
   "metadata": {},
   "source": [
    "## Predictor example"
   ]
  },
  {
   "cell_type": "code",
   "execution_count": 8,
   "metadata": {},
   "outputs": [
    {
     "name": "stdout",
     "output_type": "stream",
     "text": [
      "\u001b[32m[04/06 19:10:53 d2.checkpoint.detection_checkpoint]: \u001b[0m[DetectionCheckpointer] Loading from ../logs/ppe_train/06apr-17_24_43/model_0004224.pth ...\n"
     ]
    }
   ],
   "source": [
    "output_dir = Path('../logs') / 'ppe_train' / '06apr-17_24_43'\n",
    "model_file = \"model_0004224.pth\"\n",
    "model_path = output_dir / model_file\n",
    "config_file = \"COCO-Detection/faster_rcnn_R_101_FPN_3x.yaml\"\n",
    "\n",
    "cfg = get_infer_cfg(str(model_path), config_file, 10)\n",
    "cfg.MODEL.ROI_HEADS.SCORE_THRESH_TEST = 0.7\n",
    "predictor = DefaultPredictor(cfg)"
   ]
  }
 ],
 "metadata": {
  "kernelspec": {
   "display_name": "ppe-modelling",
   "language": "python",
   "name": "python3"
  },
  "language_info": {
   "codemirror_mode": {
    "name": "ipython",
    "version": 3
   },
   "file_extension": ".py",
   "mimetype": "text/x-python",
   "name": "python",
   "nbconvert_exporter": "python",
   "pygments_lexer": "ipython3",
   "version": "3.10.12"
  }
 },
 "nbformat": 4,
 "nbformat_minor": 2
}
