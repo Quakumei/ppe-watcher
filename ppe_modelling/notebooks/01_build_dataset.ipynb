{
 "cells": [
  {
   "cell_type": "markdown",
   "metadata": {},
   "source": [
    "# Сборка датасета COCO для обучения модели детекции нарушений СИЗ"
   ]
  },
  {
   "cell_type": "markdown",
   "metadata": {},
   "source": [
    "Датасет: [Construction Site Safety Image Dataset Roboflow](https://www.kaggle.com/datasets/snehilsanyal/construction-site-safety-image-dataset-roboflow)"
   ]
  },
  {
   "cell_type": "markdown",
   "metadata": {},
   "source": [
    "## Imports"
   ]
  },
  {
   "cell_type": "code",
   "execution_count": 8,
   "metadata": {},
   "outputs": [],
   "source": [
    "%load_ext autoreload\n",
    "%autoreload 2"
   ]
  },
  {
   "cell_type": "code",
   "execution_count": 1,
   "metadata": {},
   "outputs": [],
   "source": [
    "from pathlib import Path\n",
    "import shutil\n",
    "import os\n",
    "\n",
    "from pydantic import BaseModel\n",
    "from datumaro.components.dataset import Dataset, AnnotationType\n",
    "import matplotlib.pyplot as plt\n",
    "\n",
    "from ppe_modelling.logger import logger\n",
    "from ppe_modelling.utils import write_string_to_file, system_info_banner"
   ]
  },
  {
   "cell_type": "markdown",
   "metadata": {},
   "source": [
    "## System info"
   ]
  },
  {
   "cell_type": "code",
   "execution_count": 2,
   "metadata": {},
   "outputs": [
    {
     "name": "stderr",
     "output_type": "stream",
     "text": [
      "/home/quakumei/.pyenv/versions/3.10.12/lib/python3.10/importlib/util.py:247: DeprecationWarning: The `openvino.runtime` module is deprecated and will be removed in the 2026.0 release. Please replace `openvino.runtime` with `openvino`.\n",
      "  self.__spec__.loader.exec_module(self)\n",
      "[ppe-modelling] 06.04.2025 14:46:58 === System Information ===\n",
      "System: Linux\n",
      "Machine: x86_64\n",
      "OS Version: #59~22.04.1-Ubuntu SMP PREEMPT_DYNAMIC Wed Mar 19 17:07:41 UTC 2\n",
      "OS Name: Linux-6.8.0-57-generic-x86_64-with-glibc2.35\n",
      "\n",
      "=== Hardware Information ===\n",
      "RAM: 62.64 GB\n",
      "CPU: x86_64 (20 cores)\n",
      "GPU: NVIDIA GeForce RTX 3090\n",
      "nvcc: nvcc: NVIDIA (R) Cuda compiler driver\n",
      "Copyright (c) 2005-2024 NVIDIA Corporation\n",
      "Built on Thu_Mar_28_02:18:24_PDT_2024\n",
      "Cuda compilation tools, release 12.4, V12.4.131\n",
      "Build cuda_12.4.r12.4/compiler.34097967_0\n",
      "\n",
      "=== Libraries Information ===\n",
      "torch: 2.6; cuda: cu124\n",
      "detectron2: 0.6\n"
     ]
    }
   ],
   "source": [
    "logger.info(system_info_banner())"
   ]
  },
  {
   "cell_type": "markdown",
   "metadata": {},
   "source": [
    "## Settings"
   ]
  },
  {
   "cell_type": "code",
   "execution_count": 3,
   "metadata": {},
   "outputs": [],
   "source": [
    "class PPEDatasetBuildSettings(BaseModel):\n",
    "    data_root: Path = Path('../data/')\n",
    "    classes: dict = {0: 'Hardhat', 1: 'Mask', 2: 'NO-Hardhat', 3: 'NO-Mask', 4: 'NO-Safety Vest', 5: 'Person', 6: 'Safety Cone', 7: 'Safety Vest', 8: 'machinery', 9: 'vehicle'}\n",
    "    coco_dataset_path: Path = Path('../data/construction-site-safety-image-dataset-roboflow-coco-apr-6')\n",
    "\n",
    "ds_settings = PPEDatasetBuildSettings()"
   ]
  },
  {
   "cell_type": "markdown",
   "metadata": {},
   "source": [
    "## Dataset"
   ]
  },
  {
   "cell_type": "markdown",
   "metadata": {},
   "source": [
    "### Fetch"
   ]
  },
  {
   "cell_type": "code",
   "execution_count": 4,
   "metadata": {},
   "outputs": [],
   "source": [
    "ds_zip_path = ds_settings.data_root / 'construction-site-safety-image-dataset-roboflow.zip'\n",
    "if not ds_zip_path.exists():\n",
    "    !curl -L -o $ds_zip_path https://www.kaggle.com/api/v1/datasets/download/snehilsanyal/construction-site-safety-image-dataset-roboflow\n",
    "    print(\"Download done!\")\n",
    "\n",
    "ds_unzip_path = ds_settings.data_root / 'construction-site-safety-image-dataset-roboflow'\n",
    "if not ds_unzip_path.exists():\n",
    "    !unzip $ds_zip_path -d $ds_unzip_path\n",
    "    print(\"Unzip done!\")"
   ]
  },
  {
   "cell_type": "markdown",
   "metadata": {},
   "source": [
    "### Import to Datumaro"
   ]
  },
  {
   "cell_type": "code",
   "execution_count": 5,
   "metadata": {},
   "outputs": [],
   "source": [
    "def fix_yolo_ds(data_path: Path):\n",
    "    yaml_path = data_path / 'data.yaml'\n",
    "    if not yaml_path.exists():\n",
    "        class_names_lines = [\n",
    "            f\"  {i}: {class_name}\" for i, class_name in ds_settings.classes.items()\n",
    "        ]\n",
    "        yaml_contents = [\n",
    "            \"path: .\",\n",
    "            \"test: test.txt\",\n",
    "            \"train: train.txt\",\n",
    "            \"val: val.txt\",\n",
    "            \"names:\",\n",
    "            *class_names_lines\n",
    "        ]\n",
    "        yaml_str = \"\\n\".join(yaml_contents)\n",
    "        logger.info(yaml_str)\n",
    "        write_string_to_file(yaml_path, yaml_str)\n",
    "\n",
    "    images_path = data_path / 'images'\n",
    "    if not images_path.exists():\n",
    "        images_path.mkdir()\n",
    "        shutil.move(data_path / 'test' / 'images', data_path / 'images' / 'test')\n",
    "        shutil.move(data_path / 'train' / 'images', data_path / 'images' / 'train')\n",
    "        shutil.move(data_path / 'valid' / 'images', data_path / 'images' / 'val')\n",
    "\n",
    "    labels_path = data_path / 'labels'\n",
    "    if not labels_path.exists():\n",
    "        labels_path.mkdir()\n",
    "        shutil.move(data_path / 'test' / 'labels', labels_path / 'test')\n",
    "        shutil.move(data_path / 'train' / 'labels', labels_path / 'train')\n",
    "        shutil.move(data_path / 'valid' / 'labels', labels_path / 'val')\n",
    "\n",
    "    subsets = ['train','test','val']\n",
    "    for subset in subsets:\n",
    "        subset_file_path = data_path / f'{subset}.txt'\n",
    "        if not subset_file_path.exists():\n",
    "            subset_dir = data_path / 'images' / subset\n",
    "            subset_files = os.listdir(subset_dir)\n",
    "            subset_file_lines = [os.path.join('./images', f'{subset}', f) for f in subset_files]\n",
    "            assert subset_file_lines[0].startswith('./images'), subset_file_lines[0].startswith('./images')\n",
    "            subset_file_str = \"\\n\".join(subset_file_lines)\n",
    "            write_string_to_file(subset_file_path, subset_file_str)\n",
    "\n",
    "data_path = ds_unzip_path / 'css-data'\n",
    "fix_yolo_ds(data_path)\n",
    "\n"
   ]
  },
  {
   "cell_type": "code",
   "execution_count": 6,
   "metadata": {},
   "outputs": [
    {
     "name": "stderr",
     "output_type": "stream",
     "text": [
      "[ppe-modelling] 06.04.2025 14:46:58 True\n"
     ]
    },
    {
     "data": {
      "text/plain": [
       "Dataset\n",
       "\tsize=2801\n",
       "\tsource_path=../data/construction-site-safety-image-dataset-roboflow/css-data\n",
       "\tmedia_type=<class 'datumaro.components.media.Image'>\n",
       "\tann_types={<AnnotationType.bbox: 6>}\n",
       "\tannotated_items_count=2777\n",
       "\tannotations_count=38352\n",
       "subsets\n",
       "\ttest: # of items=82, # of annotated items=74, # of annotations=760\n",
       "\ttrain: # of items=2605, # of annotated items=2599, # of annotations=36895\n",
       "\tval: # of items=114, # of annotated items=104, # of annotations=697\n",
       "infos\n",
       "\tcategories\n",
       "\tlabel: ['Hardhat', 'Mask', 'NO-Hardhat', 'NO-Mask', 'NO-Safety Vest', 'Person', 'Safety Cone', 'Safety Vest', 'machinery', 'vehicle']"
      ]
     },
     "execution_count": 6,
     "metadata": {},
     "output_type": "execute_result"
    }
   ],
   "source": [
    "logger.info(Path(data_path).exists())\n",
    "ppe_dataset = Dataset.import_from(data_path, \"yolo\")\n",
    "ppe_dataset"
   ]
  },
  {
   "cell_type": "markdown",
   "metadata": {},
   "source": [
    "### EDA"
   ]
  },
  {
   "cell_type": "code",
   "execution_count": 7,
   "metadata": {},
   "outputs": [
    {
     "data": {
      "image/png": "[encoded data removed]",
      "text/plain": [
       "<Figure size 1000x600 with 1 Axes>"
      ]
     },
     "metadata": {},
     "output_type": "display_data"
    }
   ],
   "source": [
    "def calc_classes(ds: Dataset) -> dict:\n",
    "    labels = ds.categories()[AnnotationType.label]._indices\n",
    "    idx_to_label = {v:k for k, v in labels.items()}\n",
    "    counts = {label_i: 0 for label, label_i in labels.items()}\n",
    "    for item in ds:\n",
    "        for ann in item.annotations:\n",
    "            counts[ann.label] += 1\n",
    "    return {idx_to_label[k]:v for k, v in counts.items()}\n",
    "\n",
    "def visualize_class_presence_distribution(calced_classes: dict[str, int]) -> None:\n",
    "    # Sort the dictionary items by value in descending order\n",
    "    sorted_items = sorted(calced_classes.items(), key=lambda item: item[1], reverse=True)\n",
    "\n",
    "    # Unzip the sorted items into labels and counts\n",
    "    labels, counts = zip(*sorted_items)\n",
    "\n",
    "    plt.figure(figsize=(10, 6))\n",
    "    plt.bar(labels, counts, color='skyblue')\n",
    "    plt.xlabel('Classes')\n",
    "    plt.ylabel('Count occurrences')\n",
    "    plt.title('Class Presence Distribution')\n",
    "    plt.xticks(rotation=30, ha='right')\n",
    "    plt.tight_layout()\n",
    "    plt.show()\n",
    "\n",
    "classes_counts = calc_classes(ppe_dataset)\n",
    "visualize_class_presence_distribution(classes_counts)"
   ]
  },
  {
   "cell_type": "markdown",
   "metadata": {},
   "source": [
    "### Export to COCO Instances"
   ]
  },
  {
   "cell_type": "code",
   "execution_count": 16,
   "metadata": {},
   "outputs": [
    {
     "name": "stderr",
     "output_type": "stream",
     "text": [
      "[ppe-modelling] 06.04.2025 14:50:19 Saved 'coco_instances' dataset to ../data/construction-site-safety-image-dataset-roboflow-coco-apr-6\n"
     ]
    }
   ],
   "source": [
    "def export_ds(ds: Dataset, path: Path | str):\n",
    "    path = Path(path)\n",
    "    format = \"coco_instances\"\n",
    "    if path.exists():\n",
    "        shutil.rmtree(path)\n",
    "    ds.export(path, format, save_media=True, reindex=True)\n",
    "    logger.info(f\"Saved '{format}' dataset to {str(path)}\")\n",
    "\n",
    "export_ds(ppe_dataset, ds_settings.coco_dataset_path)"
   ]
  },
  {
   "cell_type": "code",
   "execution_count": null,
   "metadata": {},
   "outputs": [],
   "source": []
  }
 ],
 "metadata": {
  "kernelspec": {
   "display_name": "ppe-modelling",
   "language": "python",
   "name": "python3"
  },
  "language_info": {
   "codemirror_mode": {
    "name": "ipython",
    "version": 3
   },
   "file_extension": ".py",
   "mimetype": "text/x-python",
   "name": "python",
   "nbconvert_exporter": "python",
   "pygments_lexer": "ipython3",
   "version": "3.10.12"
  }
 },
 "nbformat": 4,
 "nbformat_minor": 2
}
